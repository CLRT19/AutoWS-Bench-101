{
 "cells": [
  {
   "cell_type": "code",
   "execution_count": 1,
   "metadata": {},
   "outputs": [],
   "source": [
    "import logging\n",
    "import random\n",
    "import copy\n",
    "\n",
    "import fire\n",
    "import fwrench.embeddings as feats\n",
    "import fwrench.utils.autows as autows\n",
    "import fwrench.utils.data_settings as settings\n",
    "import numpy as np\n",
    "import torch\n",
    "from sklearn.decomposition import PCA\n",
    "from sklearn.metrics import accuracy_score\n",
    "from wrench.logging import LoggingHandler"
   ]
  },
  {
   "cell_type": "code",
   "execution_count": 2,
   "metadata": {},
   "outputs": [],
   "source": [
    "dataset=\"yelp\"\n",
    "dataset_home=\"../../datasets\"\n",
    "embedding=\"raw\"  # raw | pca | resnet18 | vae\n",
    "lf_selector=\"iws\"  # snuba | interactive | goggles\n",
    "em_hard_labels=False  # Use hard or soft labels for end model training\n",
    "n_labeled_points=100  # Number of points used to train lf_selector\n",
    "#\n",
    "extract_fn = \"bert\"\n",
    "lf_class_options=\"default\"  # default | comma separated list of lf classes to use in the selection procedure. Example: 'DecisionTreeClassifier,LogisticRegression'\n",
    "#\n",
    "# Interactive Weak Supervision options\n",
    "iws_iterations=25\n",
    "iws_cardinality=1\n",
    "seed=123\n",
    "prompt=None\n",
    "iws_auto = True"
   ]
  },
  {
   "cell_type": "code",
   "execution_count": 3,
   "metadata": {},
   "outputs": [],
   "source": [
    "random.seed(seed)\n",
    "logging.basicConfig(\n",
    "    format=\"%(asctime)s - %(message)s\",\n",
    "    datefmt=\"%Y-%m-%d %H:%M:%S\",\n",
    "    level=logging.INFO,\n",
    "    handlers=[LoggingHandler()],\n",
    ")\n",
    "logger = logging.getLogger(__name__)\n",
    "device = torch.device(\"cuda\")"
   ]
  },
  {
   "cell_type": "code",
   "execution_count": 4,
   "metadata": {},
   "outputs": [
    {
     "name": "stdout",
     "output_type": "stream",
     "text": [
      "2022-08-15 03:23:41 - loading data from ../../datasets/yelp/train.json\n"
     ]
    },
    {
     "data": {
      "application/vnd.jupyter.widget-view+json": {
       "model_id": "a86e88adffd44ffdb8a292c05403a4d3",
       "version_major": 2,
       "version_minor": 0
      },
      "text/plain": [
       "  0%|          | 0/30400 [00:00<?, ?it/s]"
      ]
     },
     "metadata": {},
     "output_type": "display_data"
    },
    {
     "name": "stdout",
     "output_type": "stream",
     "text": [
      "2022-08-15 03:23:41 - loading data from ../../datasets/yelp/valid.json\n"
     ]
    },
    {
     "data": {
      "application/vnd.jupyter.widget-view+json": {
       "model_id": "c60222ad69714c3097a5efc92b16ddef",
       "version_major": 2,
       "version_minor": 0
      },
      "text/plain": [
       "  0%|          | 0/3800 [00:00<?, ?it/s]"
      ]
     },
     "metadata": {},
     "output_type": "display_data"
    },
    {
     "name": "stdout",
     "output_type": "stream",
     "text": [
      "2022-08-15 03:23:41 - loading data from ../../datasets/yelp/test.json\n"
     ]
    },
    {
     "data": {
      "application/vnd.jupyter.widget-view+json": {
       "model_id": "9e5d32978d3644a190cf315ee017df26",
       "version_major": 2,
       "version_minor": 0
      },
      "text/plain": [
       "  0%|          | 0/3800 [00:00<?, ?it/s]"
      ]
     },
     "metadata": {},
     "output_type": "display_data"
    },
    {
     "name": "stdout",
     "output_type": "stream",
     "text": [
      "2022-08-15 03:23:41 - loading features from ../../datasets/yelp/train_bert.pkl\n",
      "2022-08-15 03:23:41 - loading features from ../../datasets/yelp/valid_bert.pkl\n",
      "2022-08-15 03:23:41 - loading features from ../../datasets/yelp/test_bert.pkl\n"
     ]
    }
   ],
   "source": [
    "train_data, valid_data, test_data, k_cls, model = settings.get_yelp(\n",
    "                n_labeled_points, dataset_home, extract_fn)"
   ]
  },
  {
   "cell_type": "code",
   "execution_count": 5,
   "metadata": {},
   "outputs": [],
   "source": [
    "embedder = feats.FlattenEmbedding()\n",
    "embedder.fit(train_data, valid_data, test_data)\n",
    "train_data_embed = embedder.transform(train_data)\n",
    "valid_data_embed = embedder.transform(valid_data)\n",
    "test_data_embed = embedder.transform(test_data)"
   ]
  },
  {
   "cell_type": "code",
   "execution_count": 6,
   "metadata": {},
   "outputs": [
    {
     "name": "stdout",
     "output_type": "stream",
     "text": [
      "2022-08-15 03:23:43 - Using LF classes: [functools.partial(<class 'sklearn.tree._classes.DecisionTreeClassifier'>, max_depth=1), <class 'sklearn.linear_model._logistic.LogisticRegression'>]\n",
      "the shape of x_val is: (100, 768)\n",
      "current usefulness is : 0.1\n",
      "|----------------------------------------------------------------------------------------------------|0.0% 0/255"
     ]
    },
    {
     "name": "stderr",
     "output_type": "stream",
     "text": [
      "/hdd2/kaylee/AutoWS-Bench-101/fwrench/lf_selectors/interactive/utils.py:683: RuntimeWarning: invalid value encountered in true_divide\n",
      "  accuracy = (tp + tn) / numvotes\n"
     ]
    },
    {
     "name": "stdout",
     "output_type": "stream",
     "text": [
      "|████████████████████████████████████████████████████████████████████████████████████████████████████|100.0% 25/25\n"
     ]
    },
    {
     "name": "stderr",
     "output_type": "stream",
     "text": [
      "100%|██████████| 100/100 [00:00<00:00, 638.59epoch/s]\n"
     ]
    },
    {
     "name": "stdout",
     "output_type": "stream",
     "text": [
      "2022-08-15 03:26:20 - [0.19875331 0.83048558]\n",
      "2022-08-15 03:26:20 - [train] accuracy: 0.5240, coverage: 0.9462\n",
      "2022-08-15 03:26:20 - [0.175 0.74 ]\n",
      "2022-08-15 03:26:20 - [valid] accuracy: 0.4889, coverage: 0.9000\n",
      "2022-08-15 03:26:20 - [0.18067227 0.84749232]\n",
      "2022-08-15 03:26:20 - [test] accuracy: 0.5406, coverage: 0.9526\n",
      "2022-08-15 03:26:20 - label model train acc:    0.5406077348066298\n",
      "2022-08-15 03:26:20 - label model coverage:     0.9526315789473684\n",
      "0.5406077348066298 0.9526315789473684\n",
      "2022-08-15 03:26:20 - Using LF classes: [functools.partial(<class 'sklearn.tree._classes.DecisionTreeClassifier'>, max_depth=1), <class 'sklearn.linear_model._logistic.LogisticRegression'>]\n",
      "the shape of x_val is: (100, 768)\n",
      "current usefulness is : 0.2\n",
      "|----------------------------------------------------------------------------------------------------|0.0% 0/255"
     ]
    },
    {
     "name": "stderr",
     "output_type": "stream",
     "text": [
      "/hdd2/kaylee/AutoWS-Bench-101/fwrench/lf_selectors/interactive/utils.py:683: RuntimeWarning: invalid value encountered in true_divide\n",
      "  accuracy = (tp + tn) / numvotes\n"
     ]
    },
    {
     "name": "stdout",
     "output_type": "stream",
     "text": [
      "|████████████████████████████████████████████████████████████████████████████████████████████████████|100.0% 25/25\n"
     ]
    },
    {
     "name": "stderr",
     "output_type": "stream",
     "text": [
      "100%|██████████| 100/100 [00:00<00:00, 368.59epoch/s]\n"
     ]
    },
    {
     "name": "stdout",
     "output_type": "stream",
     "text": [
      "2022-08-15 03:29:49 - [0.18229883 0.83869221]\n",
      "2022-08-15 03:29:49 - [train] accuracy: 0.5216, coverage: 0.9401\n",
      "2022-08-15 03:29:49 - [0.15384615 0.75510204]\n",
      "2022-08-15 03:29:49 - [valid] accuracy: 0.4886, coverage: 0.8800\n",
      "2022-08-15 03:29:50 - [0.16879174 0.85538462]\n",
      "2022-08-15 03:29:50 - [test] accuracy: 0.5410, coverage: 0.9466\n",
      "2022-08-15 03:29:50 - label model train acc:    0.5410063942174034\n",
      "2022-08-15 03:29:50 - label model coverage:     0.9465789473684211\n",
      "0.5410063942174034 0.9465789473684211\n",
      "2022-08-15 03:29:50 - Using LF classes: [functools.partial(<class 'sklearn.tree._classes.DecisionTreeClassifier'>, max_depth=1), <class 'sklearn.linear_model._logistic.LogisticRegression'>]\n",
      "the shape of x_val is: (100, 768)\n",
      "current usefulness is : 0.30000000000000004\n",
      "|----------------------------------------------------------------------------------------------------|0.0% 0/255"
     ]
    },
    {
     "name": "stderr",
     "output_type": "stream",
     "text": [
      "/hdd2/kaylee/AutoWS-Bench-101/fwrench/lf_selectors/interactive/utils.py:683: RuntimeWarning: invalid value encountered in true_divide\n",
      "  accuracy = (tp + tn) / numvotes\n"
     ]
    },
    {
     "name": "stdout",
     "output_type": "stream",
     "text": [
      "|████████████████████████████████████████████████████████████████████████████████████████████████████|100.0% 25/25\n"
     ]
    },
    {
     "name": "stderr",
     "output_type": "stream",
     "text": [
      "100%|██████████| 100/100 [00:00<00:00, 469.44epoch/s]\n"
     ]
    },
    {
     "name": "stdout",
     "output_type": "stream",
     "text": [
      "2022-08-15 03:33:08 - [0.2684331  0.79885868]\n",
      "2022-08-15 03:33:08 - [train] accuracy: 0.5380, coverage: 0.9642\n",
      "2022-08-15 03:33:08 - [0.30952381 0.75510204]\n",
      "2022-08-15 03:33:08 - [valid] accuracy: 0.5495, coverage: 0.9100\n",
      "2022-08-15 03:33:08 - [0.25507246 0.82063008]\n",
      "2022-08-15 03:33:08 - [test] accuracy: 0.5565, coverage: 0.9718\n",
      "2022-08-15 03:33:08 - label model train acc:    0.5564581640942323\n",
      "2022-08-15 03:33:08 - label model coverage:     0.9718421052631578\n",
      "0.5564581640942323 0.9718421052631578\n",
      "2022-08-15 03:33:08 - Using LF classes: [functools.partial(<class 'sklearn.tree._classes.DecisionTreeClassifier'>, max_depth=1), <class 'sklearn.linear_model._logistic.LogisticRegression'>]\n",
      "the shape of x_val is: (100, 768)\n",
      "current usefulness is : 0.4\n",
      "|----------------------------------------------------------------------------------------------------|0.0% 0/255"
     ]
    },
    {
     "name": "stderr",
     "output_type": "stream",
     "text": [
      "/hdd2/kaylee/AutoWS-Bench-101/fwrench/lf_selectors/interactive/utils.py:683: RuntimeWarning: invalid value encountered in true_divide\n",
      "  accuracy = (tp + tn) / numvotes\n"
     ]
    },
    {
     "name": "stdout",
     "output_type": "stream",
     "text": [
      "|████████████████████████████████████████████████████████████████████████████████████████████████████|100.0% 25/25\n"
     ]
    },
    {
     "name": "stderr",
     "output_type": "stream",
     "text": [
      "100%|██████████| 100/100 [00:00<00:00, 394.57epoch/s]\n"
     ]
    },
    {
     "name": "stdout",
     "output_type": "stream",
     "text": [
      "2022-08-15 03:36:30 - [0.16567532 0.86012187]\n",
      "2022-08-15 03:36:30 - [train] accuracy: 0.5249, coverage: 0.9393\n",
      "2022-08-15 03:36:30 - [0.12820513 0.73469388]\n",
      "2022-08-15 03:36:30 - [valid] accuracy: 0.4659, coverage: 0.8800\n",
      "2022-08-15 03:36:30 - [0.15497254 0.8871216 ]\n",
      "2022-08-15 03:36:30 - [test] accuracy: 0.5527, coverage: 0.9442\n",
      "2022-08-15 03:36:30 - label model train acc:    0.552675585284281\n",
      "2022-08-15 03:36:30 - label model coverage:     0.9442105263157895\n",
      "0.552675585284281 0.9442105263157895\n",
      "2022-08-15 03:36:30 - Using LF classes: [functools.partial(<class 'sklearn.tree._classes.DecisionTreeClassifier'>, max_depth=1), <class 'sklearn.linear_model._logistic.LogisticRegression'>]\n",
      "the shape of x_val is: (100, 768)\n",
      "current usefulness is : 0.5\n",
      "|----------------------------------------------------------------------------------------------------|0.0% 0/255"
     ]
    },
    {
     "name": "stderr",
     "output_type": "stream",
     "text": [
      "/hdd2/kaylee/AutoWS-Bench-101/fwrench/lf_selectors/interactive/utils.py:683: RuntimeWarning: invalid value encountered in true_divide\n",
      "  accuracy = (tp + tn) / numvotes\n"
     ]
    },
    {
     "name": "stdout",
     "output_type": "stream",
     "text": [
      "|████████████████████████████████████████████████████████████████████████████████████████████████████|100.0% 25/25\n"
     ]
    },
    {
     "name": "stderr",
     "output_type": "stream",
     "text": [
      "100%|██████████| 100/100 [00:00<00:00, 361.27epoch/s]\n"
     ]
    },
    {
     "name": "stdout",
     "output_type": "stream",
     "text": [
      "2022-08-15 03:39:59 - [0.21060943 0.80731032]\n",
      "2022-08-15 03:39:59 - [train] accuracy: 0.5180, coverage: 0.9451\n",
      "2022-08-15 03:39:59 - [0.225 0.74 ]\n",
      "2022-08-15 03:39:59 - [valid] accuracy: 0.5111, coverage: 0.9000\n",
      "2022-08-15 03:39:59 - [0.19147659 0.82762148]\n",
      "2022-08-15 03:39:59 - [test] accuracy: 0.5349, coverage: 0.9529\n",
      "2022-08-15 03:39:59 - label model train acc:    0.5349351008008837\n",
      "2022-08-15 03:39:59 - label model coverage:     0.9528947368421052\n",
      "0.5349351008008837 0.9528947368421052\n",
      "2022-08-15 03:39:59 - Using LF classes: [functools.partial(<class 'sklearn.tree._classes.DecisionTreeClassifier'>, max_depth=1), <class 'sklearn.linear_model._logistic.LogisticRegression'>]\n",
      "the shape of x_val is: (100, 768)\n",
      "current usefulness is : 0.6\n",
      "|----------------------------------------------------------------------------------------------------|0.0% 0/255"
     ]
    },
    {
     "name": "stderr",
     "output_type": "stream",
     "text": [
      "/hdd2/kaylee/AutoWS-Bench-101/fwrench/lf_selectors/interactive/utils.py:683: RuntimeWarning: invalid value encountered in true_divide\n",
      "  accuracy = (tp + tn) / numvotes\n"
     ]
    },
    {
     "name": "stdout",
     "output_type": "stream",
     "text": [
      "|████████████████████████████████████████████████████████████████████████████████████████████████████|100.0% 25/25\n"
     ]
    },
    {
     "name": "stderr",
     "output_type": "stream",
     "text": [
      "100%|██████████| 100/100 [00:00<00:00, 426.40epoch/s]\n"
     ]
    },
    {
     "name": "stdout",
     "output_type": "stream",
     "text": [
      "2022-08-15 03:43:50 - [0.19538163 0.83609216]\n",
      "2022-08-15 03:43:50 - [train] accuracy: 0.5258, coverage: 0.9441\n",
      "2022-08-15 03:43:50 - [0.175 0.76 ]\n",
      "2022-08-15 03:43:50 - [valid] accuracy: 0.5000, coverage: 0.9000\n",
      "2022-08-15 03:43:50 - [0.1796875 0.8567042]\n",
      "2022-08-15 03:43:50 - [test] accuracy: 0.5453, coverage: 0.9521\n",
      "2022-08-15 03:43:50 - label model train acc:    0.5453289110005528\n",
      "2022-08-15 03:43:50 - label model coverage:     0.9521052631578948\n",
      "0.5453289110005528 0.9521052631578948\n",
      "2022-08-15 03:43:50 - Using LF classes: [functools.partial(<class 'sklearn.tree._classes.DecisionTreeClassifier'>, max_depth=1), <class 'sklearn.linear_model._logistic.LogisticRegression'>]\n",
      "the shape of x_val is: (100, 768)\n",
      "current usefulness is : 0.7\n",
      "|----------------------------------------------------------------------------------------------------|0.0% 0/255"
     ]
    },
    {
     "name": "stderr",
     "output_type": "stream",
     "text": [
      "/hdd2/kaylee/AutoWS-Bench-101/fwrench/lf_selectors/interactive/utils.py:683: RuntimeWarning: invalid value encountered in true_divide\n",
      "  accuracy = (tp + tn) / numvotes\n"
     ]
    },
    {
     "name": "stdout",
     "output_type": "stream",
     "text": [
      "|████████████████████████████████████████████████████████████████████████████████████████████████████|100.0% 25/25\n"
     ]
    },
    {
     "name": "stderr",
     "output_type": "stream",
     "text": [
      "100%|██████████| 100/100 [00:00<00:00, 429.21epoch/s]\n"
     ]
    },
    {
     "name": "stdout",
     "output_type": "stream",
     "text": [
      "2022-08-15 03:47:11 - [0.18682114 0.83408952]\n",
      "2022-08-15 03:47:11 - [train] accuracy: 0.5213, coverage: 0.9400\n",
      "2022-08-15 03:47:11 - [0.15384615 0.75510204]\n",
      "2022-08-15 03:47:11 - [valid] accuracy: 0.4886, coverage: 0.8800\n",
      "2022-08-15 03:47:11 - [0.17283202 0.85069266]\n",
      "2022-08-15 03:47:11 - [test] accuracy: 0.5400, coverage: 0.9468\n",
      "2022-08-15 03:47:11 - label model train acc:    0.5400222345747637\n",
      "2022-08-15 03:47:11 - label model coverage:     0.9468421052631579\n",
      "0.5400222345747637 0.9468421052631579\n",
      "2022-08-15 03:47:11 - Using LF classes: [functools.partial(<class 'sklearn.tree._classes.DecisionTreeClassifier'>, max_depth=1), <class 'sklearn.linear_model._logistic.LogisticRegression'>]\n",
      "the shape of x_val is: (100, 768)\n",
      "current usefulness is : 0.7999999999999999\n",
      "|----------------------------------------------------------------------------------------------------|0.0% 0/255"
     ]
    },
    {
     "name": "stderr",
     "output_type": "stream",
     "text": [
      "/hdd2/kaylee/AutoWS-Bench-101/fwrench/lf_selectors/interactive/utils.py:683: RuntimeWarning: invalid value encountered in true_divide\n",
      "  accuracy = (tp + tn) / numvotes\n"
     ]
    },
    {
     "name": "stdout",
     "output_type": "stream",
     "text": [
      "|████████████████████████████████████████████████████████████████████████████████████████████████████|100.0% 25/25\n"
     ]
    },
    {
     "name": "stderr",
     "output_type": "stream",
     "text": [
      "100%|██████████| 100/100 [00:00<00:00, 456.95epoch/s]\n"
     ]
    },
    {
     "name": "stdout",
     "output_type": "stream",
     "text": [
      "2022-08-15 03:50:37 - [0.02757635 0.96988211]\n",
      "2022-08-15 03:50:37 - [train] accuracy: 0.5390, coverage: 0.7043\n",
      "2022-08-15 03:50:37 - [0.09090909 0.90243902]\n",
      "2022-08-15 03:50:37 - [valid] accuracy: 0.6190, coverage: 0.6300\n",
      "2022-08-15 03:50:38 - [0.02738589 0.97638285]\n",
      "2022-08-15 03:50:38 - [test] accuracy: 0.5700, coverage: 0.7405\n",
      "2022-08-15 03:50:38 - label model train acc:    0.5700071073205402\n",
      "2022-08-15 03:50:38 - label model coverage:     0.7405263157894737\n",
      "0.5700071073205402 0.7405263157894737\n",
      "2022-08-15 03:50:38 - Using LF classes: [functools.partial(<class 'sklearn.tree._classes.DecisionTreeClassifier'>, max_depth=1), <class 'sklearn.linear_model._logistic.LogisticRegression'>]\n",
      "the shape of x_val is: (100, 768)\n",
      "current usefulness is : 0.8999999999999999\n",
      "|----------------------------------------------------------------------------------------------------|0.0% 0/255"
     ]
    },
    {
     "name": "stderr",
     "output_type": "stream",
     "text": [
      "/hdd2/kaylee/AutoWS-Bench-101/fwrench/lf_selectors/interactive/utils.py:683: RuntimeWarning: invalid value encountered in true_divide\n",
      "  accuracy = (tp + tn) / numvotes\n"
     ]
    },
    {
     "name": "stdout",
     "output_type": "stream",
     "text": [
      "|████████████████████████████████████████████████████████████████████████████████████████████████████|100.0% 25/25\n"
     ]
    },
    {
     "name": "stderr",
     "output_type": "stream",
     "text": [
      "100%|██████████| 100/100 [00:00<00:00, 746.26epoch/s]\n"
     ]
    },
    {
     "name": "stdout",
     "output_type": "stream",
     "text": [
      "2022-08-15 03:53:57 - [0. 1.]\n",
      "2022-08-15 03:53:57 - [train] accuracy: 0.5610, coverage: 0.3332\n",
      "2022-08-15 03:53:57 - [0. 1.]\n",
      "2022-08-15 03:53:57 - [valid] accuracy: 0.8095, coverage: 0.2100\n",
      "2022-08-15 03:53:57 - [0. 1.]\n",
      "2022-08-15 03:53:57 - [test] accuracy: 0.5782, coverage: 0.3600\n",
      "2022-08-15 03:53:57 - label model train acc:    0.5782163742690059\n",
      "2022-08-15 03:53:57 - label model coverage:     0.36\n",
      "0.5782163742690059 0.36\n",
      "2022-08-15 03:53:57 - Using LF classes: [functools.partial(<class 'sklearn.tree._classes.DecisionTreeClassifier'>, max_depth=1), <class 'sklearn.linear_model._logistic.LogisticRegression'>]\n",
      "the shape of x_val is: (100, 768)\n",
      "current usefulness is : 0.9999999999999999\n",
      "|----------------------------------------------------------------------------------------------------|0.0% 0/255"
     ]
    },
    {
     "name": "stderr",
     "output_type": "stream",
     "text": [
      "/hdd2/kaylee/AutoWS-Bench-101/fwrench/lf_selectors/interactive/utils.py:683: RuntimeWarning: invalid value encountered in true_divide\n",
      "  accuracy = (tp + tn) / numvotes\n"
     ]
    },
    {
     "name": "stdout",
     "output_type": "stream",
     "text": [
      "|████████████████████████████████████████████████████████████████████████████████████████████████████|100.0% 25/25\n"
     ]
    },
    {
     "name": "stderr",
     "output_type": "stream",
     "text": [
      "100%|██████████| 100/100 [00:00<00:00, 1749.46epoch/s]\n"
     ]
    },
    {
     "name": "stdout",
     "output_type": "stream",
     "text": [
      "2022-08-15 03:57:06 - [0. 1.]\n",
      "2022-08-15 03:57:06 - [train] accuracy: 0.5341, coverage: 0.2631\n",
      "2022-08-15 03:57:06 - [0. 1.]\n",
      "2022-08-15 03:57:06 - [valid] accuracy: 0.7778, coverage: 0.1800\n",
      "2022-08-15 03:57:06 - [0. 1.]\n",
      "2022-08-15 03:57:06 - [test] accuracy: 0.5484, coverage: 0.2879\n",
      "2022-08-15 03:57:06 - label model train acc:    0.5484460694698354\n",
      "2022-08-15 03:57:06 - label model coverage:     0.28789473684210526\n",
      "0.5484460694698354 0.28789473684210526\n"
     ]
    }
   ],
   "source": [
    "iws_usefulness = 0.1\n",
    "acc_list = []\n",
    "cov_list = []\n",
    "while iws_usefulness < 0.95:\n",
    "    test_covered, hard_labels, soft_labels = autows.run_iws(\n",
    "            valid_data,\n",
    "            train_data,\n",
    "            test_data,\n",
    "            valid_data_embed,\n",
    "            train_data_embed,\n",
    "            test_data_embed,\n",
    "            iws_cardinality,\n",
    "            iws_iterations,\n",
    "            iws_auto,\n",
    "            iws_usefulness,\n",
    "            lf_class_options,\n",
    "            k_cls,\n",
    "            logger,\n",
    "    )\n",
    "\n",
    "    # TODO swtich to test set\n",
    "    acc = accuracy_score(test_covered.labels, hard_labels)\n",
    "    cov = float(len(test_covered.labels)) / float(len(test_data.labels))\n",
    "    logger.info(f\"label model train acc:    {acc}\")\n",
    "    logger.info(f\"label model coverage:     {cov}\")\n",
    "\n",
    "    ################ TRAIN END MODEL ##########################################\n",
    "    # model.fit(\n",
    "    #     dataset_train=train_covered,\n",
    "    #     y_train=hard_labels if em_hard_labels else soft_labels,\n",
    "    #     dataset_valid=valid_data,\n",
    "    #     evaluation_step=50,\n",
    "    #     metric=\"acc\",\n",
    "    #     patience=1000,\n",
    "    #     device=device,\n",
    "    # )\n",
    "    # logger.info(f\"---LeNet eval---\")\n",
    "    # acc = model.test(test_data, \"acc\")\n",
    "    # logger.info(f\"end model (LeNet) test acc:    {acc}\")\n",
    "    ################ PROFIT 🤑 #################################################\n",
    "    acc_list.append(acc)\n",
    "    cov_list.append(cov)\n",
    "    print(acc, cov)\n",
    "    iws_usefulness += 0.1"
   ]
  },
  {
   "cell_type": "code",
   "execution_count": 11,
   "metadata": {},
   "outputs": [],
   "source": [
    "with open('yelp_acc_file_1.txt', 'w') as f:\n",
    "        for line in acc_list:\n",
    "            f.write(f\"{line}\\n\")\n",
    "with open('yelp_cov_file_1.txt', 'w') as f:\n",
    "    for line in cov_list:\n",
    "        f.write(f\"{line}\\n\")\n"
   ]
  },
  {
   "cell_type": "code",
   "execution_count": 9,
   "metadata": {},
   "outputs": [
    {
     "data": {
      "image/png": "[encoded data removed]",
      "text/plain": [
       "<Figure size 432x288 with 1 Axes>"
      ]
     },
     "metadata": {
      "needs_background": "light"
     },
     "output_type": "display_data"
    }
   ],
   "source": [
    "a= [0.1, 0.2, 0.3, 0.4, 0.5, 0.6, 0.7, 0.8, 0.9]\n",
    "import matplotlib.pyplot as plt\n",
    "\n",
    "plt.plot(a, acc_list, color='red', marker='o')\n",
    "plt.title('interactive WS usefulness vs accuracy', fontsize=14)\n",
    "plt.xlabel('usefulness', fontsize=14)\n",
    "plt.ylabel('accuracy', fontsize=14)\n",
    "plt.grid(True)\n",
    "plt.show()\n"
   ]
  },
  {
   "cell_type": "code",
   "execution_count": 10,
   "metadata": {},
   "outputs": [
    {
     "data": {
      "image/png": "[encoded data removed]",
      "text/plain": [
       "<Figure size 432x288 with 1 Axes>"
      ]
     },
     "metadata": {
      "needs_background": "light"
     },
     "output_type": "display_data"
    }
   ],
   "source": [
    "plt.plot(a, cov_list, color='red', marker='o')\n",
    "plt.title('interactive WS usefulness vs coverage', fontsize=14)\n",
    "plt.xlabel('usefulness', fontsize=14)\n",
    "plt.ylabel('coverage', fontsize=14)\n",
    "plt.grid(True)\n",
    "plt.show()"
   ]
  },
  {
   "cell_type": "code",
   "execution_count": 6,
   "metadata": {},
   "outputs": [],
   "source": [
    "with open(\"yelp_acc_file_0.txt\", \"r\") as file:\n",
    "    acc_list=file.read().splitlines()\n",
    "acc_list = list(map(float, acc_list))\n",
    "\n",
    "with open(\"yelp_cov_file_0.txt\", \"r\") as file:\n",
    "    cov_list=file.read().splitlines()\n",
    "cov_list = list(map(float, cov_list))"
   ]
  },
  {
   "cell_type": "code",
   "execution_count": 7,
   "metadata": {},
   "outputs": [
    {
     "data": {
      "image/png": "[encoded data removed]",
      "text/plain": [
       "<Figure size 432x288 with 1 Axes>"
      ]
     },
     "metadata": {
      "needs_background": "light"
     },
     "output_type": "display_data"
    }
   ],
   "source": [
    "a= [0.1, 0.2, 0.3, 0.4, 0.5, 0.6, 0.7, 0.8, 0.9]\n",
    "import matplotlib.pyplot as plt\n",
    "\n",
    "plt.plot(a, acc_list, color='red', marker='o')\n",
    "plt.title('yelp interactive WS usefulness vs accuracy', fontsize=14)\n",
    "plt.xlabel('usefulness', fontsize=14)\n",
    "plt.ylabel('accuracy', fontsize=14)\n",
    "plt.grid(True)\n",
    "plt.show()\n"
   ]
  },
  {
   "cell_type": "code",
   "execution_count": 8,
   "metadata": {},
   "outputs": [
    {
     "data": {
      "image/png": "[encoded data removed]",
      "text/plain": [
       "<Figure size 432x288 with 1 Axes>"
      ]
     },
     "metadata": {
      "needs_background": "light"
     },
     "output_type": "display_data"
    }
   ],
   "source": [
    "plt.plot(a, cov_list, color='red', marker='o')\n",
    "plt.title('yelp interactive WS usefulness vs coverage', fontsize=14)\n",
    "plt.xlabel('usefulness', fontsize=14)\n",
    "plt.ylabel('coverage', fontsize=14)\n",
    "plt.grid(True)\n",
    "plt.show()"
   ]
  },
  {
   "cell_type": "code",
   "execution_count": null,
   "metadata": {},
   "outputs": [],
   "source": []
  }
 ],
 "metadata": {
  "kernelspec": {
   "display_name": "Python 3.7.11 ('AutoWS-Bench-101')",
   "language": "python",
   "name": "python3"
  },
  "language_info": {
   "codemirror_mode": {
    "name": "ipython",
    "version": 3
   },
   "file_extension": ".py",
   "mimetype": "text/x-python",
   "name": "python",
   "nbconvert_exporter": "python",
   "pygments_lexer": "ipython3",
   "version": "3.7.11"
  },
  "orig_nbformat": 4,
  "vscode": {
   "interpreter": {
    "hash": "a3a3834f6b455bafe68d34c3d1c01c774ea34e8f9892737ceb304ee47bc48148"
   }
  }
 },
 "nbformat": 4,
 "nbformat_minor": 2
}
