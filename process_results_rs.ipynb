{
 "cells": [
  {
   "cell_type": "code",
   "execution_count": 1,
   "metadata": {},
   "outputs": [],
   "source": [
    "import numpy as np\n",
    "import matplotlib.pyplot as plt\n",
    "import pandas as pd \n",
    "from collections import defaultdict "
   ]
  },
  {
   "cell_type": "code",
   "execution_count": 2,
   "metadata": {},
   "outputs": [],
   "source": [
    "def parse_accs(fname):\n",
    "    f_string = ''\n",
    "    with open(fname, 'r') as f:\n",
    "        for line in f.readlines():\n",
    "            f_string += (f' {line}')\n",
    "\n",
    "    perfs = f_string.split('[random_search]')\n",
    "    perfs = list(filter(lambda s: 'conf=' in s, perfs))\n",
    "    perf_dict = defaultdict(list)\n",
    "    for p in perfs:\n",
    "        s = p.strip().split(',')\n",
    "        s = [item.strip() for item in s]\n",
    "        conf = s[0].replace('conf=', '')\n",
    "        seed = int(s[1].replace('seed=', ''))\n",
    "        acc = float(s[2].replace('acc=', ''))\n",
    "        perf_dict[conf].append(acc)\n",
    "\n",
    "    means = []\n",
    "    stds = []\n",
    "    points = []\n",
    "    confs = []\n",
    "    for k in perf_dict.keys():\n",
    "        means.append(np.mean(perf_dict[k]))\n",
    "        stds.append(np.std(perf_dict[k]))\n",
    "        points.append(perf_dict[k])\n",
    "        confs.append(k)\n",
    "\n",
    "    return means, stds, points, confs\n",
    "    \n",
    "means, stds, points, confs = parse_accs('results/random_search.log')"
   ]
  },
  {
   "cell_type": "code",
   "execution_count": 3,
   "metadata": {},
   "outputs": [
    {
     "data": {
      "text/plain": [
       "[0.3821, 0.4397, 0.4321]"
      ]
     },
     "execution_count": 3,
     "metadata": {},
     "output_type": "execute_result"
    }
   ],
   "source": [
    "points[np.argmax(means)]"
   ]
  },
  {
   "cell_type": "code",
   "execution_count": 4,
   "metadata": {},
   "outputs": [
    {
     "data": {
      "text/plain": [
       "'[5.92212138e-02 1.11815863e-01 1.28464862e-01 8.48805478e-02\\n  4.19379279e-04 4.04951095e-02 2.02454160e-02 5.72815361e-02\\n  4.97176072e-01]'"
      ]
     },
     "execution_count": 4,
     "metadata": {},
     "output_type": "execute_result"
    }
   ],
   "source": [
    "h = confs[np.argmax(means)]\n",
    "h"
   ]
  },
  {
   "cell_type": "code",
   "execution_count": null,
   "metadata": {},
   "outputs": [],
   "source": []
  },
  {
   "cell_type": "code",
   "execution_count": 5,
   "metadata": {},
   "outputs": [
    {
     "data": {
      "text/plain": [
       "0.41796666666666665"
      ]
     },
     "execution_count": 5,
     "metadata": {},
     "output_type": "execute_result"
    }
   ],
   "source": [
    "np.max(means)"
   ]
  },
  {
   "cell_type": "code",
   "execution_count": 6,
   "metadata": {},
   "outputs": [
    {
     "data": {
      "text/plain": [
       "253"
      ]
     },
     "execution_count": 6,
     "metadata": {},
     "output_type": "execute_result"
    }
   ],
   "source": [
    "len(means)"
   ]
  },
  {
   "cell_type": "code",
   "execution_count": 7,
   "metadata": {},
   "outputs": [
    {
     "data": {
      "text/plain": [
       "<matplotlib.collections.PathCollection at 0x7efbdb292128>"
      ]
     },
     "execution_count": 7,
     "metadata": {},
     "output_type": "execute_result"
    },
    {
     "data": {
      "image/png": "[encoded data removed]",
      "text/plain": [
       "<Figure size 432x288 with 1 Axes>"
      ]
     },
     "metadata": {
      "needs_background": "light"
     },
     "output_type": "display_data"
    }
   ],
   "source": [
    "plt.scatter(np.arange(len(means)), means)\n"
   ]
  },
  {
   "cell_type": "code",
   "execution_count": 8,
   "metadata": {},
   "outputs": [],
   "source": [
    "rs = []\n",
    "for i in range(len(means)):\n",
    "    rs.append(np.max(means[:i+1]))"
   ]
  },
  {
   "cell_type": "code",
   "execution_count": 12,
   "metadata": {},
   "outputs": [
    {
     "data": {
      "image/png": "[encoded data removed]",
      "text/plain": [
       "<Figure size 432x288 with 1 Axes>"
      ]
     },
     "metadata": {
      "needs_background": "light"
     },
     "output_type": "display_data"
    }
   ],
   "source": [
    "plt.plot(np.arange(1, len(means)), rs[1:], color='C0', label='Random search')\n",
    "plt.xlabel('Number of metrics evaluated')\n",
    "plt.ylabel('Mean end model accuracy')\n",
    "#plt.title('Random search for metric combinations')\n",
    "plt.axhline(0.417566667, color='C1', label='Default metric')\n",
    "\n",
    "plt.xscale('log')\n",
    "plt.legend(frameon=False)\n",
    "plt.show()"
   ]
  },
  {
   "cell_type": "code",
   "execution_count": null,
   "metadata": {},
   "outputs": [],
   "source": []
  },
  {
   "cell_type": "code",
   "execution_count": null,
   "metadata": {},
   "outputs": [],
   "source": []
  }
 ],
 "metadata": {
  "interpreter": {
   "hash": "31f2aee4e71d21fbe5cf8b01ff0e069b9275f58929596ceb00d14d90e3e16cd6"
  },
  "kernelspec": {
   "display_name": "Python 3.8.10 64-bit",
   "language": "python",
   "name": "python3"
  },
  "language_info": {
   "codemirror_mode": {
    "name": "ipython",
    "version": 3
   },
   "file_extension": ".py",
   "mimetype": "text/x-python",
   "name": "python",
   "nbconvert_exporter": "python",
   "pygments_lexer": "ipython3",
   "version": "3.6.9"
  },
  "orig_nbformat": 4
 },
 "nbformat": 4,
 "nbformat_minor": 2
}
